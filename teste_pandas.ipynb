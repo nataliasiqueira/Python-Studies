{
 "metadata": {
  "language_info": {
   "codemirror_mode": {
    "name": "ipython",
    "version": 3
   },
   "file_extension": ".py",
   "mimetype": "text/x-python",
   "name": "python",
   "nbconvert_exporter": "python",
   "pygments_lexer": "ipython3",
   "version": "3.8.5"
  },
  "orig_nbformat": 4,
  "kernelspec": {
   "name": "python3",
   "display_name": "Python 3.8.5 64-bit"
  },
  "interpreter": {
   "hash": "7cec1f917389d54a000a2b05549d569dd262b8ecaa622243c991259c46eee738"
  }
 },
 "nbformat": 4,
 "nbformat_minor": 2,
 "cells": [
  {
   "cell_type": "code",
   "execution_count": 52,
   "metadata": {},
   "outputs": [],
   "source": [
    "import pandas as pd"
   ]
  },
  {
   "cell_type": "code",
   "execution_count": 53,
   "metadata": {},
   "outputs": [],
   "source": [
    "pessoas = pd.read_excel('caso_estudo.xlsx', sheet_name = 'pessoas')\n",
    "covid = pd.read_excel('caso_estudo.xlsx', sheet_name = 'registros_covid')"
   ]
  },
  {
   "cell_type": "code",
   "execution_count": 54,
   "metadata": {},
   "outputs": [
    {
     "output_type": "execute_result",
     "data": {
      "text/plain": [
       "       id               nome sexo  idade\n",
       "0       1      Lavinia Sousa    F     18\n",
       "1       2       Caio Pereira    M     28\n",
       "2       3      Júlio Azevedo    M     32\n",
       "3       4    Sarah Goncalves    F     49\n",
       "4       5  Gabrielle Martins    F     27\n",
       "..    ...                ...  ...    ...\n",
       "995   996     Ágatha Ribeiro    F     31\n",
       "996   997     Laura Oliveira    F     23\n",
       "997   998      Lara Oliveira    F     24\n",
       "998   999       Julian Cunha    M     43\n",
       "999  1000    Gustavo Barbosa    M     23\n",
       "\n",
       "[1000 rows x 4 columns]"
      ],
      "text/html": "<div>\n<style scoped>\n    .dataframe tbody tr th:only-of-type {\n        vertical-align: middle;\n    }\n\n    .dataframe tbody tr th {\n        vertical-align: top;\n    }\n\n    .dataframe thead th {\n        text-align: right;\n    }\n</style>\n<table border=\"1\" class=\"dataframe\">\n  <thead>\n    <tr style=\"text-align: right;\">\n      <th></th>\n      <th>id</th>\n      <th>nome</th>\n      <th>sexo</th>\n      <th>idade</th>\n    </tr>\n  </thead>\n  <tbody>\n    <tr>\n      <th>0</th>\n      <td>1</td>\n      <td>Lavinia Sousa</td>\n      <td>F</td>\n      <td>18</td>\n    </tr>\n    <tr>\n      <th>1</th>\n      <td>2</td>\n      <td>Caio Pereira</td>\n      <td>M</td>\n      <td>28</td>\n    </tr>\n    <tr>\n      <th>2</th>\n      <td>3</td>\n      <td>Júlio Azevedo</td>\n      <td>M</td>\n      <td>32</td>\n    </tr>\n    <tr>\n      <th>3</th>\n      <td>4</td>\n      <td>Sarah Goncalves</td>\n      <td>F</td>\n      <td>49</td>\n    </tr>\n    <tr>\n      <th>4</th>\n      <td>5</td>\n      <td>Gabrielle Martins</td>\n      <td>F</td>\n      <td>27</td>\n    </tr>\n    <tr>\n      <th>...</th>\n      <td>...</td>\n      <td>...</td>\n      <td>...</td>\n      <td>...</td>\n    </tr>\n    <tr>\n      <th>995</th>\n      <td>996</td>\n      <td>Ágatha Ribeiro</td>\n      <td>F</td>\n      <td>31</td>\n    </tr>\n    <tr>\n      <th>996</th>\n      <td>997</td>\n      <td>Laura Oliveira</td>\n      <td>F</td>\n      <td>23</td>\n    </tr>\n    <tr>\n      <th>997</th>\n      <td>998</td>\n      <td>Lara Oliveira</td>\n      <td>F</td>\n      <td>24</td>\n    </tr>\n    <tr>\n      <th>998</th>\n      <td>999</td>\n      <td>Julian Cunha</td>\n      <td>M</td>\n      <td>43</td>\n    </tr>\n    <tr>\n      <th>999</th>\n      <td>1000</td>\n      <td>Gustavo Barbosa</td>\n      <td>M</td>\n      <td>23</td>\n    </tr>\n  </tbody>\n</table>\n<p>1000 rows × 4 columns</p>\n</div>"
     },
     "metadata": {},
     "execution_count": 54
    }
   ],
   "source": [
    "pessoas"
   ]
  },
  {
   "cell_type": "code",
   "execution_count": 55,
   "metadata": {},
   "outputs": [
    {
     "output_type": "execute_result",
     "data": {
      "text/plain": [
       "id       294\n",
       "nome     293\n",
       "sexo     294\n",
       "idade    294\n",
       "dtype: int64"
      ]
     },
     "metadata": {},
     "execution_count": 55
    }
   ],
   "source": [
    "pessoas[pessoas.idade>40].count()"
   ]
  },
  {
   "cell_type": "code",
   "execution_count": 56,
   "metadata": {},
   "outputs": [
    {
     "output_type": "execute_result",
     "data": {
      "text/plain": [
       "24       Otávio Carvalho\n",
       "70           Kauê Araujo\n",
       "90          Nicole Sousa\n",
       "91          Danilo Silva\n",
       "132         Carlos Souza\n",
       "139         Leonor Sousa\n",
       "209        Carla Martins\n",
       "227         Kauê Correia\n",
       "257    Gabrielle Barbosa\n",
       "292          Luís Barros\n",
       "326           João Sousa\n",
       "334        Vitor Azevedo\n",
       "357       Leila Carvalho\n",
       "381          Luana Silva\n",
       "391     Miguel Rodrigues\n",
       "494           Vitór Lima\n",
       "537       Isabela Barros\n",
       "557       Mariana Castro\n",
       "618        Otávio Santos\n",
       "677       Bruno Oliveira\n",
       "712           José Souza\n",
       "826         Alex Almeida\n",
       "849        Vitória Rocha\n",
       "927         Julian Sousa\n",
       "946          Victor Lima\n",
       "948            Luís Melo\n",
       "957         Aline Santos\n",
       "Name: nome, dtype: object"
      ]
     },
     "metadata": {},
     "execution_count": 56
    }
   ],
   "source": [
    "pessoas.nome[pessoas.idade==48]"
   ]
  },
  {
   "cell_type": "code",
   "execution_count": 57,
   "metadata": {},
   "outputs": [
    {
     "output_type": "execute_result",
     "data": {
      "text/plain": [
       "33.7914979757085"
      ]
     },
     "metadata": {},
     "execution_count": 57
    }
   ],
   "source": [
    "pessoas.idade[pessoas.sexo=='F'].mean()"
   ]
  },
  {
   "cell_type": "code",
   "execution_count": 58,
   "metadata": {},
   "outputs": [
    {
     "output_type": "execute_result",
     "data": {
      "text/plain": [
       "      id              nome sexo  idade\n",
       "10    11         Ana Cunha    F     30\n",
       "17    18   Antônio Azevedo    M     36\n",
       "32    33     Antônio Gomes    M     35\n",
       "33    34      Arthur Alves    M     46\n",
       "43    44  André Cavalcanti    M     43\n",
       "..   ...               ...  ...    ...\n",
       "950  951    Aline Oliveira    F     31\n",
       "951  952  Amanda Fernandes    F     23\n",
       "952  953        André Lima    M     39\n",
       "957  958      Aline Santos    F     48\n",
       "985  986        Alice Melo    F     22\n",
       "\n",
       "[70 rows x 4 columns]"
      ],
      "text/html": "<div>\n<style scoped>\n    .dataframe tbody tr th:only-of-type {\n        vertical-align: middle;\n    }\n\n    .dataframe tbody tr th {\n        vertical-align: top;\n    }\n\n    .dataframe thead th {\n        text-align: right;\n    }\n</style>\n<table border=\"1\" class=\"dataframe\">\n  <thead>\n    <tr style=\"text-align: right;\">\n      <th></th>\n      <th>id</th>\n      <th>nome</th>\n      <th>sexo</th>\n      <th>idade</th>\n    </tr>\n  </thead>\n  <tbody>\n    <tr>\n      <th>10</th>\n      <td>11</td>\n      <td>Ana Cunha</td>\n      <td>F</td>\n      <td>30</td>\n    </tr>\n    <tr>\n      <th>17</th>\n      <td>18</td>\n      <td>Antônio Azevedo</td>\n      <td>M</td>\n      <td>36</td>\n    </tr>\n    <tr>\n      <th>32</th>\n      <td>33</td>\n      <td>Antônio Gomes</td>\n      <td>M</td>\n      <td>35</td>\n    </tr>\n    <tr>\n      <th>33</th>\n      <td>34</td>\n      <td>Arthur Alves</td>\n      <td>M</td>\n      <td>46</td>\n    </tr>\n    <tr>\n      <th>43</th>\n      <td>44</td>\n      <td>André Cavalcanti</td>\n      <td>M</td>\n      <td>43</td>\n    </tr>\n    <tr>\n      <th>...</th>\n      <td>...</td>\n      <td>...</td>\n      <td>...</td>\n      <td>...</td>\n    </tr>\n    <tr>\n      <th>950</th>\n      <td>951</td>\n      <td>Aline Oliveira</td>\n      <td>F</td>\n      <td>31</td>\n    </tr>\n    <tr>\n      <th>951</th>\n      <td>952</td>\n      <td>Amanda Fernandes</td>\n      <td>F</td>\n      <td>23</td>\n    </tr>\n    <tr>\n      <th>952</th>\n      <td>953</td>\n      <td>André Lima</td>\n      <td>M</td>\n      <td>39</td>\n    </tr>\n    <tr>\n      <th>957</th>\n      <td>958</td>\n      <td>Aline Santos</td>\n      <td>F</td>\n      <td>48</td>\n    </tr>\n    <tr>\n      <th>985</th>\n      <td>986</td>\n      <td>Alice Melo</td>\n      <td>F</td>\n      <td>22</td>\n    </tr>\n  </tbody>\n</table>\n<p>70 rows × 4 columns</p>\n</div>"
     },
     "metadata": {},
     "execution_count": 58
    }
   ],
   "source": [
    "pessoas[pessoas.nome.str[0]=='A']"
   ]
  },
  {
   "cell_type": "code",
   "execution_count": 59,
   "metadata": {},
   "outputs": [
    {
     "output_type": "execute_result",
     "data": {
      "text/plain": [
       "      id           nome sexo  idade\n",
       "10    11      Ana Cunha    F     30\n",
       "162  163    Ana Pereira    F     35\n",
       "435  436    Ana Correia    F     45\n",
       "670  671  Ana Goncalves    F     46\n",
       "738  739      Ana Silva    F     43\n",
       "774  775    Ana Barbosa    F     35"
      ],
      "text/html": "<div>\n<style scoped>\n    .dataframe tbody tr th:only-of-type {\n        vertical-align: middle;\n    }\n\n    .dataframe tbody tr th {\n        vertical-align: top;\n    }\n\n    .dataframe thead th {\n        text-align: right;\n    }\n</style>\n<table border=\"1\" class=\"dataframe\">\n  <thead>\n    <tr style=\"text-align: right;\">\n      <th></th>\n      <th>id</th>\n      <th>nome</th>\n      <th>sexo</th>\n      <th>idade</th>\n    </tr>\n  </thead>\n  <tbody>\n    <tr>\n      <th>10</th>\n      <td>11</td>\n      <td>Ana Cunha</td>\n      <td>F</td>\n      <td>30</td>\n    </tr>\n    <tr>\n      <th>162</th>\n      <td>163</td>\n      <td>Ana Pereira</td>\n      <td>F</td>\n      <td>35</td>\n    </tr>\n    <tr>\n      <th>435</th>\n      <td>436</td>\n      <td>Ana Correia</td>\n      <td>F</td>\n      <td>45</td>\n    </tr>\n    <tr>\n      <th>670</th>\n      <td>671</td>\n      <td>Ana Goncalves</td>\n      <td>F</td>\n      <td>46</td>\n    </tr>\n    <tr>\n      <th>738</th>\n      <td>739</td>\n      <td>Ana Silva</td>\n      <td>F</td>\n      <td>43</td>\n    </tr>\n    <tr>\n      <th>774</th>\n      <td>775</td>\n      <td>Ana Barbosa</td>\n      <td>F</td>\n      <td>35</td>\n    </tr>\n  </tbody>\n</table>\n</div>"
     },
     "metadata": {},
     "execution_count": 59
    }
   ],
   "source": [
    "pessoas[pessoas.nome.str[0:3]=='Ana']"
   ]
  },
  {
   "cell_type": "code",
   "execution_count": 60,
   "metadata": {},
   "outputs": [
    {
     "output_type": "execute_result",
     "data": {
      "text/plain": [
       "sexo\n",
       "F    33.791498\n",
       "M    34.055777\n",
       "Name: idade, dtype: float64"
      ]
     },
     "metadata": {},
     "execution_count": 60
    }
   ],
   "source": [
    "pessoas.groupby('sexo').idade.mean()"
   ]
  },
  {
   "cell_type": "code",
   "execution_count": 61,
   "metadata": {},
   "outputs": [
    {
     "output_type": "execute_result",
     "data": {
      "text/plain": [
       "       id               nome sexo  idade inicial\n",
       "0       1      Lavinia Sousa    F     18       L\n",
       "1       2       Caio Pereira    M     28       C\n",
       "2       3      Júlio Azevedo    M     32       J\n",
       "3       4    Sarah Goncalves    F     49       S\n",
       "4       5  Gabrielle Martins    F     27       G\n",
       "..    ...                ...  ...    ...     ...\n",
       "995   996     Ágatha Ribeiro    F     31       Á\n",
       "996   997     Laura Oliveira    F     23       L\n",
       "997   998      Lara Oliveira    F     24       L\n",
       "998   999       Julian Cunha    M     43       J\n",
       "999  1000    Gustavo Barbosa    M     23       G\n",
       "\n",
       "[1000 rows x 5 columns]"
      ],
      "text/html": "<div>\n<style scoped>\n    .dataframe tbody tr th:only-of-type {\n        vertical-align: middle;\n    }\n\n    .dataframe tbody tr th {\n        vertical-align: top;\n    }\n\n    .dataframe thead th {\n        text-align: right;\n    }\n</style>\n<table border=\"1\" class=\"dataframe\">\n  <thead>\n    <tr style=\"text-align: right;\">\n      <th></th>\n      <th>id</th>\n      <th>nome</th>\n      <th>sexo</th>\n      <th>idade</th>\n      <th>inicial</th>\n    </tr>\n  </thead>\n  <tbody>\n    <tr>\n      <th>0</th>\n      <td>1</td>\n      <td>Lavinia Sousa</td>\n      <td>F</td>\n      <td>18</td>\n      <td>L</td>\n    </tr>\n    <tr>\n      <th>1</th>\n      <td>2</td>\n      <td>Caio Pereira</td>\n      <td>M</td>\n      <td>28</td>\n      <td>C</td>\n    </tr>\n    <tr>\n      <th>2</th>\n      <td>3</td>\n      <td>Júlio Azevedo</td>\n      <td>M</td>\n      <td>32</td>\n      <td>J</td>\n    </tr>\n    <tr>\n      <th>3</th>\n      <td>4</td>\n      <td>Sarah Goncalves</td>\n      <td>F</td>\n      <td>49</td>\n      <td>S</td>\n    </tr>\n    <tr>\n      <th>4</th>\n      <td>5</td>\n      <td>Gabrielle Martins</td>\n      <td>F</td>\n      <td>27</td>\n      <td>G</td>\n    </tr>\n    <tr>\n      <th>...</th>\n      <td>...</td>\n      <td>...</td>\n      <td>...</td>\n      <td>...</td>\n      <td>...</td>\n    </tr>\n    <tr>\n      <th>995</th>\n      <td>996</td>\n      <td>Ágatha Ribeiro</td>\n      <td>F</td>\n      <td>31</td>\n      <td>Á</td>\n    </tr>\n    <tr>\n      <th>996</th>\n      <td>997</td>\n      <td>Laura Oliveira</td>\n      <td>F</td>\n      <td>23</td>\n      <td>L</td>\n    </tr>\n    <tr>\n      <th>997</th>\n      <td>998</td>\n      <td>Lara Oliveira</td>\n      <td>F</td>\n      <td>24</td>\n      <td>L</td>\n    </tr>\n    <tr>\n      <th>998</th>\n      <td>999</td>\n      <td>Julian Cunha</td>\n      <td>M</td>\n      <td>43</td>\n      <td>J</td>\n    </tr>\n    <tr>\n      <th>999</th>\n      <td>1000</td>\n      <td>Gustavo Barbosa</td>\n      <td>M</td>\n      <td>23</td>\n      <td>G</td>\n    </tr>\n  </tbody>\n</table>\n<p>1000 rows × 5 columns</p>\n</div>"
     },
     "metadata": {},
     "execution_count": 61
    }
   ],
   "source": [
    "pessoas['inicial']=pessoas.nome.str[0]\n",
    "pessoas"
   ]
  },
  {
   "cell_type": "code",
   "execution_count": 62,
   "metadata": {},
   "outputs": [
    {
     "output_type": "execute_result",
     "data": {
      "text/plain": [
       "inicial\n",
       "A    33.957143\n",
       "B    34.236364\n",
       "C    33.311475\n",
       "D    35.886792\n",
       "E    33.985294\n",
       "F    37.000000\n",
       "G    33.426230\n",
       "I    33.419355\n",
       "J    33.884058\n",
       "K    33.894737\n",
       "L    33.623188\n",
       "M    34.287037\n",
       "N    34.562500\n",
       "O    35.750000\n",
       "P    31.000000\n",
       "R    32.302326\n",
       "S    34.027778\n",
       "T    34.277778\n",
       "V    33.489796\n",
       "Y    31.714286\n",
       "Á    31.900000\n",
       "Name: idade, dtype: float64"
      ]
     },
     "metadata": {},
     "execution_count": 62
    }
   ],
   "source": [
    "pessoas.groupby('inicial').idade.mean()"
   ]
  },
  {
   "source": [
    " Join"
   ],
   "cell_type": "markdown",
   "metadata": {}
  },
  {
   "cell_type": "code",
   "execution_count": 63,
   "metadata": {},
   "outputs": [
    {
     "output_type": "execute_result",
     "data": {
      "text/plain": [
       "   id           nome sexo  idade inicial\n",
       "0   1  Lavinia Sousa    F     18       L\n",
       "1   2   Caio Pereira    M     28       C"
      ],
      "text/html": "<div>\n<style scoped>\n    .dataframe tbody tr th:only-of-type {\n        vertical-align: middle;\n    }\n\n    .dataframe tbody tr th {\n        vertical-align: top;\n    }\n\n    .dataframe thead th {\n        text-align: right;\n    }\n</style>\n<table border=\"1\" class=\"dataframe\">\n  <thead>\n    <tr style=\"text-align: right;\">\n      <th></th>\n      <th>id</th>\n      <th>nome</th>\n      <th>sexo</th>\n      <th>idade</th>\n      <th>inicial</th>\n    </tr>\n  </thead>\n  <tbody>\n    <tr>\n      <th>0</th>\n      <td>1</td>\n      <td>Lavinia Sousa</td>\n      <td>F</td>\n      <td>18</td>\n      <td>L</td>\n    </tr>\n    <tr>\n      <th>1</th>\n      <td>2</td>\n      <td>Caio Pereira</td>\n      <td>M</td>\n      <td>28</td>\n      <td>C</td>\n    </tr>\n  </tbody>\n</table>\n</div>"
     },
     "metadata": {},
     "execution_count": 63
    }
   ],
   "source": [
    "pessoas.head(2)"
   ]
  },
  {
   "cell_type": "code",
   "execution_count": 66,
   "metadata": {},
   "outputs": [
    {
     "output_type": "execute_result",
     "data": {
      "text/plain": [
       "   id  id_pessoa severidade\n",
       "0   1          3       alta\n",
       "1   2          4       alta"
      ],
      "text/html": "<div>\n<style scoped>\n    .dataframe tbody tr th:only-of-type {\n        vertical-align: middle;\n    }\n\n    .dataframe tbody tr th {\n        vertical-align: top;\n    }\n\n    .dataframe thead th {\n        text-align: right;\n    }\n</style>\n<table border=\"1\" class=\"dataframe\">\n  <thead>\n    <tr style=\"text-align: right;\">\n      <th></th>\n      <th>id</th>\n      <th>id_pessoa</th>\n      <th>severidade</th>\n    </tr>\n  </thead>\n  <tbody>\n    <tr>\n      <th>0</th>\n      <td>1</td>\n      <td>3</td>\n      <td>alta</td>\n    </tr>\n    <tr>\n      <th>1</th>\n      <td>2</td>\n      <td>4</td>\n      <td>alta</td>\n    </tr>\n  </tbody>\n</table>\n</div>"
     },
     "metadata": {},
     "execution_count": 66
    }
   ],
   "source": [
    "covid.head(2)"
   ]
  },
  {
   "cell_type": "code",
   "execution_count": 67,
   "metadata": {},
   "outputs": [],
   "source": [
    "pessoas=pessoas.set_index('id')"
   ]
  },
  {
   "cell_type": "code",
   "execution_count": 71,
   "metadata": {},
   "outputs": [
    {
     "output_type": "execute_result",
     "data": {
      "text/plain": [
       "             nome sexo  idade inicial\n",
       "id                                   \n",
       "1   Lavinia Sousa    F     18       L\n",
       "2    Caio Pereira    M     28       C"
      ],
      "text/html": "<div>\n<style scoped>\n    .dataframe tbody tr th:only-of-type {\n        vertical-align: middle;\n    }\n\n    .dataframe tbody tr th {\n        vertical-align: top;\n    }\n\n    .dataframe thead th {\n        text-align: right;\n    }\n</style>\n<table border=\"1\" class=\"dataframe\">\n  <thead>\n    <tr style=\"text-align: right;\">\n      <th></th>\n      <th>nome</th>\n      <th>sexo</th>\n      <th>idade</th>\n      <th>inicial</th>\n    </tr>\n    <tr>\n      <th>id</th>\n      <th></th>\n      <th></th>\n      <th></th>\n      <th></th>\n    </tr>\n  </thead>\n  <tbody>\n    <tr>\n      <th>1</th>\n      <td>Lavinia Sousa</td>\n      <td>F</td>\n      <td>18</td>\n      <td>L</td>\n    </tr>\n    <tr>\n      <th>2</th>\n      <td>Caio Pereira</td>\n      <td>M</td>\n      <td>28</td>\n      <td>C</td>\n    </tr>\n  </tbody>\n</table>\n</div>"
     },
     "metadata": {},
     "execution_count": 71
    }
   ],
   "source": [
    "pessoas.head(2)"
   ]
  },
  {
   "cell_type": "code",
   "execution_count": 68,
   "metadata": {},
   "outputs": [],
   "source": [
    "covid=covid.set_index('id')"
   ]
  },
  {
   "cell_type": "code",
   "execution_count": 72,
   "metadata": {},
   "outputs": [
    {
     "output_type": "execute_result",
     "data": {
      "text/plain": [
       "    id_pessoa severidade\n",
       "id                      \n",
       "1           3       alta\n",
       "2           4       alta"
      ],
      "text/html": "<div>\n<style scoped>\n    .dataframe tbody tr th:only-of-type {\n        vertical-align: middle;\n    }\n\n    .dataframe tbody tr th {\n        vertical-align: top;\n    }\n\n    .dataframe thead th {\n        text-align: right;\n    }\n</style>\n<table border=\"1\" class=\"dataframe\">\n  <thead>\n    <tr style=\"text-align: right;\">\n      <th></th>\n      <th>id_pessoa</th>\n      <th>severidade</th>\n    </tr>\n    <tr>\n      <th>id</th>\n      <th></th>\n      <th></th>\n    </tr>\n  </thead>\n  <tbody>\n    <tr>\n      <th>1</th>\n      <td>3</td>\n      <td>alta</td>\n    </tr>\n    <tr>\n      <th>2</th>\n      <td>4</td>\n      <td>alta</td>\n    </tr>\n  </tbody>\n</table>\n</div>"
     },
     "metadata": {},
     "execution_count": 72
    }
   ],
   "source": [
    "covid.head(2)"
   ]
  },
  {
   "cell_type": "code",
   "execution_count": 76,
   "metadata": {},
   "outputs": [
    {
     "output_type": "execute_result",
     "data": {
      "text/plain": [
       "                   nome sexo  idade inicial severidade\n",
       "id                                                    \n",
       "1         Lavinia Sousa    F     18       L        NaN\n",
       "2          Caio Pereira    M     28       C        NaN\n",
       "3         Júlio Azevedo    M     32       J       alta\n",
       "4       Sarah Goncalves    F     49       S       alta\n",
       "5     Gabrielle Martins    F     27       G        NaN\n",
       "...                 ...  ...    ...     ...        ...\n",
       "996      Ágatha Ribeiro    F     31       Á      baixa\n",
       "997      Laura Oliveira    F     23       L        NaN\n",
       "998       Lara Oliveira    F     24       L        NaN\n",
       "999        Julian Cunha    M     43       J       alta\n",
       "1000    Gustavo Barbosa    M     23       G        NaN\n",
       "\n",
       "[1000 rows x 5 columns]"
      ],
      "text/html": "<div>\n<style scoped>\n    .dataframe tbody tr th:only-of-type {\n        vertical-align: middle;\n    }\n\n    .dataframe tbody tr th {\n        vertical-align: top;\n    }\n\n    .dataframe thead th {\n        text-align: right;\n    }\n</style>\n<table border=\"1\" class=\"dataframe\">\n  <thead>\n    <tr style=\"text-align: right;\">\n      <th></th>\n      <th>nome</th>\n      <th>sexo</th>\n      <th>idade</th>\n      <th>inicial</th>\n      <th>severidade</th>\n    </tr>\n    <tr>\n      <th>id</th>\n      <th></th>\n      <th></th>\n      <th></th>\n      <th></th>\n      <th></th>\n    </tr>\n  </thead>\n  <tbody>\n    <tr>\n      <th>1</th>\n      <td>Lavinia Sousa</td>\n      <td>F</td>\n      <td>18</td>\n      <td>L</td>\n      <td>NaN</td>\n    </tr>\n    <tr>\n      <th>2</th>\n      <td>Caio Pereira</td>\n      <td>M</td>\n      <td>28</td>\n      <td>C</td>\n      <td>NaN</td>\n    </tr>\n    <tr>\n      <th>3</th>\n      <td>Júlio Azevedo</td>\n      <td>M</td>\n      <td>32</td>\n      <td>J</td>\n      <td>alta</td>\n    </tr>\n    <tr>\n      <th>4</th>\n      <td>Sarah Goncalves</td>\n      <td>F</td>\n      <td>49</td>\n      <td>S</td>\n      <td>alta</td>\n    </tr>\n    <tr>\n      <th>5</th>\n      <td>Gabrielle Martins</td>\n      <td>F</td>\n      <td>27</td>\n      <td>G</td>\n      <td>NaN</td>\n    </tr>\n    <tr>\n      <th>...</th>\n      <td>...</td>\n      <td>...</td>\n      <td>...</td>\n      <td>...</td>\n      <td>...</td>\n    </tr>\n    <tr>\n      <th>996</th>\n      <td>Ágatha Ribeiro</td>\n      <td>F</td>\n      <td>31</td>\n      <td>Á</td>\n      <td>baixa</td>\n    </tr>\n    <tr>\n      <th>997</th>\n      <td>Laura Oliveira</td>\n      <td>F</td>\n      <td>23</td>\n      <td>L</td>\n      <td>NaN</td>\n    </tr>\n    <tr>\n      <th>998</th>\n      <td>Lara Oliveira</td>\n      <td>F</td>\n      <td>24</td>\n      <td>L</td>\n      <td>NaN</td>\n    </tr>\n    <tr>\n      <th>999</th>\n      <td>Julian Cunha</td>\n      <td>M</td>\n      <td>43</td>\n      <td>J</td>\n      <td>alta</td>\n    </tr>\n    <tr>\n      <th>1000</th>\n      <td>Gustavo Barbosa</td>\n      <td>M</td>\n      <td>23</td>\n      <td>G</td>\n      <td>NaN</td>\n    </tr>\n  </tbody>\n</table>\n<p>1000 rows × 5 columns</p>\n</div>"
     },
     "metadata": {},
     "execution_count": 76
    }
   ],
   "source": [
    "df = pessoas.join(covid.set_index('id_pessoa'))\n",
    "df"
   ]
  },
  {
   "cell_type": "code",
   "execution_count": 80,
   "metadata": {},
   "outputs": [
    {
     "output_type": "execute_result",
     "data": {
      "text/plain": [
       "                 nome sexo  idade inicial severidade\n",
       "id                                                  \n",
       "1       Lavinia Sousa    F     18       L          0\n",
       "2        Caio Pereira    M     28       C          0\n",
       "3       Júlio Azevedo    M     32       J       alta\n",
       "4     Sarah Goncalves    F     49       S       alta\n",
       "5   Gabrielle Martins    F     27       G          0"
      ],
      "text/html": "<div>\n<style scoped>\n    .dataframe tbody tr th:only-of-type {\n        vertical-align: middle;\n    }\n\n    .dataframe tbody tr th {\n        vertical-align: top;\n    }\n\n    .dataframe thead th {\n        text-align: right;\n    }\n</style>\n<table border=\"1\" class=\"dataframe\">\n  <thead>\n    <tr style=\"text-align: right;\">\n      <th></th>\n      <th>nome</th>\n      <th>sexo</th>\n      <th>idade</th>\n      <th>inicial</th>\n      <th>severidade</th>\n    </tr>\n    <tr>\n      <th>id</th>\n      <th></th>\n      <th></th>\n      <th></th>\n      <th></th>\n      <th></th>\n    </tr>\n  </thead>\n  <tbody>\n    <tr>\n      <th>1</th>\n      <td>Lavinia Sousa</td>\n      <td>F</td>\n      <td>18</td>\n      <td>L</td>\n      <td>0</td>\n    </tr>\n    <tr>\n      <th>2</th>\n      <td>Caio Pereira</td>\n      <td>M</td>\n      <td>28</td>\n      <td>C</td>\n      <td>0</td>\n    </tr>\n    <tr>\n      <th>3</th>\n      <td>Júlio Azevedo</td>\n      <td>M</td>\n      <td>32</td>\n      <td>J</td>\n      <td>alta</td>\n    </tr>\n    <tr>\n      <th>4</th>\n      <td>Sarah Goncalves</td>\n      <td>F</td>\n      <td>49</td>\n      <td>S</td>\n      <td>alta</td>\n    </tr>\n    <tr>\n      <th>5</th>\n      <td>Gabrielle Martins</td>\n      <td>F</td>\n      <td>27</td>\n      <td>G</td>\n      <td>0</td>\n    </tr>\n  </tbody>\n</table>\n</div>"
     },
     "metadata": {},
     "execution_count": 80
    }
   ],
   "source": [
    "df=df.fillna(0)\n",
    "df.head(5)"
   ]
  },
  {
   "cell_type": "code",
   "execution_count": 81,
   "metadata": {},
   "outputs": [
    {
     "output_type": "execute_result",
     "data": {
      "text/plain": [
       "severidade\n",
       "0        23.495890\n",
       "alta     43.019380\n",
       "baixa    37.755968\n",
       "Name: idade, dtype: float64"
      ]
     },
     "metadata": {},
     "execution_count": 81
    }
   ],
   "source": [
    "df.groupby('severidade').idade.mean()"
   ]
  },
  {
   "source": [
    "Novas Features"
   ],
   "cell_type": "markdown",
   "metadata": {}
  },
  {
   "cell_type": "code",
   "execution_count": 83,
   "metadata": {},
   "outputs": [
    {
     "output_type": "execute_result",
     "data": {
      "text/plain": [
       "                 nome sexo  idade inicial severidade faixa_etaria\n",
       "id                                                               \n",
       "1       Lavinia Sousa    F     18       L          0        Jovem\n",
       "2        Caio Pereira    M     28       C          0        Jovem\n",
       "3       Júlio Azevedo    M     32       J       alta        Jovem\n",
       "4     Sarah Goncalves    F     49       S       alta        Jovem\n",
       "5   Gabrielle Martins    F     27       G          0        Jovem"
      ],
      "text/html": "<div>\n<style scoped>\n    .dataframe tbody tr th:only-of-type {\n        vertical-align: middle;\n    }\n\n    .dataframe tbody tr th {\n        vertical-align: top;\n    }\n\n    .dataframe thead th {\n        text-align: right;\n    }\n</style>\n<table border=\"1\" class=\"dataframe\">\n  <thead>\n    <tr style=\"text-align: right;\">\n      <th></th>\n      <th>nome</th>\n      <th>sexo</th>\n      <th>idade</th>\n      <th>inicial</th>\n      <th>severidade</th>\n      <th>faixa_etaria</th>\n    </tr>\n    <tr>\n      <th>id</th>\n      <th></th>\n      <th></th>\n      <th></th>\n      <th></th>\n      <th></th>\n      <th></th>\n    </tr>\n  </thead>\n  <tbody>\n    <tr>\n      <th>1</th>\n      <td>Lavinia Sousa</td>\n      <td>F</td>\n      <td>18</td>\n      <td>L</td>\n      <td>0</td>\n      <td>Jovem</td>\n    </tr>\n    <tr>\n      <th>2</th>\n      <td>Caio Pereira</td>\n      <td>M</td>\n      <td>28</td>\n      <td>C</td>\n      <td>0</td>\n      <td>Jovem</td>\n    </tr>\n    <tr>\n      <th>3</th>\n      <td>Júlio Azevedo</td>\n      <td>M</td>\n      <td>32</td>\n      <td>J</td>\n      <td>alta</td>\n      <td>Jovem</td>\n    </tr>\n    <tr>\n      <th>4</th>\n      <td>Sarah Goncalves</td>\n      <td>F</td>\n      <td>49</td>\n      <td>S</td>\n      <td>alta</td>\n      <td>Jovem</td>\n    </tr>\n    <tr>\n      <th>5</th>\n      <td>Gabrielle Martins</td>\n      <td>F</td>\n      <td>27</td>\n      <td>G</td>\n      <td>0</td>\n      <td>Jovem</td>\n    </tr>\n  </tbody>\n</table>\n</div>"
     },
     "metadata": {},
     "execution_count": 83
    }
   ],
   "source": [
    "df['faixa_etaria']='Jovem'\n",
    "df.head()"
   ]
  },
  {
   "cell_type": "code",
   "execution_count": 84,
   "metadata": {},
   "outputs": [
    {
     "output_type": "execute_result",
     "data": {
      "text/plain": [
       "                 nome sexo  idade inicial severidade faixa_etaria\n",
       "id                                                               \n",
       "1       Lavinia Sousa    F     18       L          0        Jovem\n",
       "2        Caio Pereira    M     28       C          0       Adulto\n",
       "3       Júlio Azevedo    M     32       J       alta       Adulto\n",
       "4     Sarah Goncalves    F     49       S       alta      Adulto2\n",
       "5   Gabrielle Martins    F     27       G          0       Adulto"
      ],
      "text/html": "<div>\n<style scoped>\n    .dataframe tbody tr th:only-of-type {\n        vertical-align: middle;\n    }\n\n    .dataframe tbody tr th {\n        vertical-align: top;\n    }\n\n    .dataframe thead th {\n        text-align: right;\n    }\n</style>\n<table border=\"1\" class=\"dataframe\">\n  <thead>\n    <tr style=\"text-align: right;\">\n      <th></th>\n      <th>nome</th>\n      <th>sexo</th>\n      <th>idade</th>\n      <th>inicial</th>\n      <th>severidade</th>\n      <th>faixa_etaria</th>\n    </tr>\n    <tr>\n      <th>id</th>\n      <th></th>\n      <th></th>\n      <th></th>\n      <th></th>\n      <th></th>\n      <th></th>\n    </tr>\n  </thead>\n  <tbody>\n    <tr>\n      <th>1</th>\n      <td>Lavinia Sousa</td>\n      <td>F</td>\n      <td>18</td>\n      <td>L</td>\n      <td>0</td>\n      <td>Jovem</td>\n    </tr>\n    <tr>\n      <th>2</th>\n      <td>Caio Pereira</td>\n      <td>M</td>\n      <td>28</td>\n      <td>C</td>\n      <td>0</td>\n      <td>Adulto</td>\n    </tr>\n    <tr>\n      <th>3</th>\n      <td>Júlio Azevedo</td>\n      <td>M</td>\n      <td>32</td>\n      <td>J</td>\n      <td>alta</td>\n      <td>Adulto</td>\n    </tr>\n    <tr>\n      <th>4</th>\n      <td>Sarah Goncalves</td>\n      <td>F</td>\n      <td>49</td>\n      <td>S</td>\n      <td>alta</td>\n      <td>Adulto2</td>\n    </tr>\n    <tr>\n      <th>5</th>\n      <td>Gabrielle Martins</td>\n      <td>F</td>\n      <td>27</td>\n      <td>G</td>\n      <td>0</td>\n      <td>Adulto</td>\n    </tr>\n  </tbody>\n</table>\n</div>"
     },
     "metadata": {},
     "execution_count": 84
    }
   ],
   "source": [
    " df.loc[df.idade>24,'faixa_etaria']='Adulto'\n",
    " df.loc[df.idade>45,'faixa_etaria']='Adulto2'\n",
    " df.head()\n"
   ]
  },
  {
   "cell_type": "code",
   "execution_count": 87,
   "metadata": {},
   "outputs": [
    {
     "output_type": "execute_result",
     "data": {
      "text/plain": [
       "                 nome sexo  idade inicial severidade faixa_etaria\n",
       "id                                                               \n",
       "1       Lavinia Sousa    F     18       L          0        Jovem\n",
       "2        Caio Pereira    M     28       C          0       Adulto\n",
       "3       Júlio Azevedo    M     32       J          2       Adulto\n",
       "4     Sarah Goncalves    F     49       S          2      Adulto2\n",
       "5   Gabrielle Martins    F     27       G          0       Adulto\n",
       "6      Felipe Almeida    M     31       F          1       Adulto\n",
       "7    Rebeca Rodrigues    F     22       R          0        Jovem\n",
       "8   Gabrielly Almeida    F     37       G          1       Adulto\n",
       "9      Fernanda Silva    F     50       F          2      Adulto2\n",
       "10    Tomás Rodrigues    M     31       T          1       Adulto"
      ],
      "text/html": "<div>\n<style scoped>\n    .dataframe tbody tr th:only-of-type {\n        vertical-align: middle;\n    }\n\n    .dataframe tbody tr th {\n        vertical-align: top;\n    }\n\n    .dataframe thead th {\n        text-align: right;\n    }\n</style>\n<table border=\"1\" class=\"dataframe\">\n  <thead>\n    <tr style=\"text-align: right;\">\n      <th></th>\n      <th>nome</th>\n      <th>sexo</th>\n      <th>idade</th>\n      <th>inicial</th>\n      <th>severidade</th>\n      <th>faixa_etaria</th>\n    </tr>\n    <tr>\n      <th>id</th>\n      <th></th>\n      <th></th>\n      <th></th>\n      <th></th>\n      <th></th>\n      <th></th>\n    </tr>\n  </thead>\n  <tbody>\n    <tr>\n      <th>1</th>\n      <td>Lavinia Sousa</td>\n      <td>F</td>\n      <td>18</td>\n      <td>L</td>\n      <td>0</td>\n      <td>Jovem</td>\n    </tr>\n    <tr>\n      <th>2</th>\n      <td>Caio Pereira</td>\n      <td>M</td>\n      <td>28</td>\n      <td>C</td>\n      <td>0</td>\n      <td>Adulto</td>\n    </tr>\n    <tr>\n      <th>3</th>\n      <td>Júlio Azevedo</td>\n      <td>M</td>\n      <td>32</td>\n      <td>J</td>\n      <td>2</td>\n      <td>Adulto</td>\n    </tr>\n    <tr>\n      <th>4</th>\n      <td>Sarah Goncalves</td>\n      <td>F</td>\n      <td>49</td>\n      <td>S</td>\n      <td>2</td>\n      <td>Adulto2</td>\n    </tr>\n    <tr>\n      <th>5</th>\n      <td>Gabrielle Martins</td>\n      <td>F</td>\n      <td>27</td>\n      <td>G</td>\n      <td>0</td>\n      <td>Adulto</td>\n    </tr>\n    <tr>\n      <th>6</th>\n      <td>Felipe Almeida</td>\n      <td>M</td>\n      <td>31</td>\n      <td>F</td>\n      <td>1</td>\n      <td>Adulto</td>\n    </tr>\n    <tr>\n      <th>7</th>\n      <td>Rebeca Rodrigues</td>\n      <td>F</td>\n      <td>22</td>\n      <td>R</td>\n      <td>0</td>\n      <td>Jovem</td>\n    </tr>\n    <tr>\n      <th>8</th>\n      <td>Gabrielly Almeida</td>\n      <td>F</td>\n      <td>37</td>\n      <td>G</td>\n      <td>1</td>\n      <td>Adulto</td>\n    </tr>\n    <tr>\n      <th>9</th>\n      <td>Fernanda Silva</td>\n      <td>F</td>\n      <td>50</td>\n      <td>F</td>\n      <td>2</td>\n      <td>Adulto2</td>\n    </tr>\n    <tr>\n      <th>10</th>\n      <td>Tomás Rodrigues</td>\n      <td>M</td>\n      <td>31</td>\n      <td>T</td>\n      <td>1</td>\n      <td>Adulto</td>\n    </tr>\n  </tbody>\n</table>\n</div>"
     },
     "metadata": {},
     "execution_count": 87
    }
   ],
   "source": [
    "df.loc[df.severidade=='baixa','severidade']=1\n",
    "df.loc[df.severidade=='alta','severidade']=2\n",
    "df.head(10)"
   ]
  },
  {
   "cell_type": "code",
   "execution_count": 88,
   "metadata": {},
   "outputs": [],
   "source": [
    "df['severidade']=df['severidade'].astype('int')"
   ]
  },
  {
   "cell_type": "code",
   "execution_count": 89,
   "metadata": {},
   "outputs": [
    {
     "output_type": "execute_result",
     "data": {
      "text/plain": [
       "                  idade  severidade\n",
       "faixa_etaria                       \n",
       "Adulto        35.150400    1.022400\n",
       "Adulto2       47.939189    1.716216\n",
       "Jovem         21.343612    0.000000"
      ],
      "text/html": "<div>\n<style scoped>\n    .dataframe tbody tr th:only-of-type {\n        vertical-align: middle;\n    }\n\n    .dataframe tbody tr th {\n        vertical-align: top;\n    }\n\n    .dataframe thead th {\n        text-align: right;\n    }\n</style>\n<table border=\"1\" class=\"dataframe\">\n  <thead>\n    <tr style=\"text-align: right;\">\n      <th></th>\n      <th>idade</th>\n      <th>severidade</th>\n    </tr>\n    <tr>\n      <th>faixa_etaria</th>\n      <th></th>\n      <th></th>\n    </tr>\n  </thead>\n  <tbody>\n    <tr>\n      <th>Adulto</th>\n      <td>35.150400</td>\n      <td>1.022400</td>\n    </tr>\n    <tr>\n      <th>Adulto2</th>\n      <td>47.939189</td>\n      <td>1.716216</td>\n    </tr>\n    <tr>\n      <th>Jovem</th>\n      <td>21.343612</td>\n      <td>0.000000</td>\n    </tr>\n  </tbody>\n</table>\n</div>"
     },
     "metadata": {},
     "execution_count": 89
    }
   ],
   "source": [
    "df.groupby('faixa_etaria').mean()"
   ]
  },
  {
   "source": [
    "Lambda"
   ],
   "cell_type": "markdown",
   "metadata": {}
  },
  {
   "cell_type": "code",
   "execution_count": null,
   "metadata": {},
   "outputs": [],
   "source": []
  }
 ]
}